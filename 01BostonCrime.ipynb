{
 "cells": [
  {
   "cell_type": "code",
   "execution_count": 50,
   "id": "0972b802",
   "metadata": {},
   "outputs": [],
   "source": [
    "import numpy as np\n",
    "import pandas as pd\n",
    "import matplotlib.pyplot as plt \n",
    "import seaborn as sns\n",
    "\n",
    "frame=pd.read_csv(\"C:\\\\Users\\\\talk2_000\\\\Desktop\\\\Python\\\\DatasetFiles\\\\BostonCrime\\\\crime.csv\", encoding='latin-1')\n",
    "frame01=pd.read_csv(\"C:\\\\Users\\\\talk2_000\\\\Desktop\\\\Python\\\\DatasetFiles\\\\BostonCrime\\\\offense_codes.csv\", encoding='latin-1')"
   ]
  },
  {
   "cell_type": "code",
   "execution_count": 51,
   "id": "239c6cc6",
   "metadata": {},
   "outputs": [
    {
     "data": {
      "text/html": [
       "<div>\n",
       "<style scoped>\n",
       "    .dataframe tbody tr th:only-of-type {\n",
       "        vertical-align: middle;\n",
       "    }\n",
       "\n",
       "    .dataframe tbody tr th {\n",
       "        vertical-align: top;\n",
       "    }\n",
       "\n",
       "    .dataframe thead th {\n",
       "        text-align: right;\n",
       "    }\n",
       "</style>\n",
       "<table border=\"1\" class=\"dataframe\">\n",
       "  <thead>\n",
       "    <tr style=\"text-align: right;\">\n",
       "      <th></th>\n",
       "      <th>INCIDENT_NUMBER</th>\n",
       "      <th>OFFENSE_CODE</th>\n",
       "      <th>OFFENSE_CODE_GROUP</th>\n",
       "      <th>OFFENSE_DESCRIPTION</th>\n",
       "      <th>DISTRICT</th>\n",
       "      <th>REPORTING_AREA</th>\n",
       "      <th>SHOOTING</th>\n",
       "      <th>OCCURRED_ON_DATE</th>\n",
       "      <th>YEAR</th>\n",
       "      <th>MONTH</th>\n",
       "      <th>DAY_OF_WEEK</th>\n",
       "      <th>HOUR</th>\n",
       "      <th>UCR_PART</th>\n",
       "      <th>STREET</th>\n",
       "      <th>Lat</th>\n",
       "      <th>Long</th>\n",
       "      <th>Location</th>\n",
       "    </tr>\n",
       "  </thead>\n",
       "  <tbody>\n",
       "    <tr>\n",
       "      <th>0</th>\n",
       "      <td>I182070945</td>\n",
       "      <td>619</td>\n",
       "      <td>Larceny</td>\n",
       "      <td>LARCENY ALL OTHERS</td>\n",
       "      <td>D14</td>\n",
       "      <td>808</td>\n",
       "      <td>NaN</td>\n",
       "      <td>2018-09-02 13:00:00</td>\n",
       "      <td>2018</td>\n",
       "      <td>9</td>\n",
       "      <td>Sunday</td>\n",
       "      <td>13</td>\n",
       "      <td>Part One</td>\n",
       "      <td>LINCOLN ST</td>\n",
       "      <td>42.357791</td>\n",
       "      <td>-71.139371</td>\n",
       "      <td>(42.35779134, -71.13937053)</td>\n",
       "    </tr>\n",
       "    <tr>\n",
       "      <th>1</th>\n",
       "      <td>I182070943</td>\n",
       "      <td>1402</td>\n",
       "      <td>Vandalism</td>\n",
       "      <td>VANDALISM</td>\n",
       "      <td>C11</td>\n",
       "      <td>347</td>\n",
       "      <td>NaN</td>\n",
       "      <td>2018-08-21 00:00:00</td>\n",
       "      <td>2018</td>\n",
       "      <td>8</td>\n",
       "      <td>Tuesday</td>\n",
       "      <td>0</td>\n",
       "      <td>Part Two</td>\n",
       "      <td>HECLA ST</td>\n",
       "      <td>42.306821</td>\n",
       "      <td>-71.060300</td>\n",
       "      <td>(42.30682138, -71.06030035)</td>\n",
       "    </tr>\n",
       "    <tr>\n",
       "      <th>2</th>\n",
       "      <td>I182070941</td>\n",
       "      <td>3410</td>\n",
       "      <td>Towed</td>\n",
       "      <td>TOWED MOTOR VEHICLE</td>\n",
       "      <td>D4</td>\n",
       "      <td>151</td>\n",
       "      <td>NaN</td>\n",
       "      <td>2018-09-03 19:27:00</td>\n",
       "      <td>2018</td>\n",
       "      <td>9</td>\n",
       "      <td>Monday</td>\n",
       "      <td>19</td>\n",
       "      <td>Part Three</td>\n",
       "      <td>CAZENOVE ST</td>\n",
       "      <td>42.346589</td>\n",
       "      <td>-71.072429</td>\n",
       "      <td>(42.34658879, -71.07242943)</td>\n",
       "    </tr>\n",
       "    <tr>\n",
       "      <th>3</th>\n",
       "      <td>I182070940</td>\n",
       "      <td>3114</td>\n",
       "      <td>Investigate Property</td>\n",
       "      <td>INVESTIGATE PROPERTY</td>\n",
       "      <td>D4</td>\n",
       "      <td>272</td>\n",
       "      <td>NaN</td>\n",
       "      <td>2018-09-03 21:16:00</td>\n",
       "      <td>2018</td>\n",
       "      <td>9</td>\n",
       "      <td>Monday</td>\n",
       "      <td>21</td>\n",
       "      <td>Part Three</td>\n",
       "      <td>NEWCOMB ST</td>\n",
       "      <td>42.334182</td>\n",
       "      <td>-71.078664</td>\n",
       "      <td>(42.33418175, -71.07866441)</td>\n",
       "    </tr>\n",
       "    <tr>\n",
       "      <th>4</th>\n",
       "      <td>I182070938</td>\n",
       "      <td>3114</td>\n",
       "      <td>Investigate Property</td>\n",
       "      <td>INVESTIGATE PROPERTY</td>\n",
       "      <td>B3</td>\n",
       "      <td>421</td>\n",
       "      <td>NaN</td>\n",
       "      <td>2018-09-03 21:05:00</td>\n",
       "      <td>2018</td>\n",
       "      <td>9</td>\n",
       "      <td>Monday</td>\n",
       "      <td>21</td>\n",
       "      <td>Part Three</td>\n",
       "      <td>DELHI ST</td>\n",
       "      <td>42.275365</td>\n",
       "      <td>-71.090361</td>\n",
       "      <td>(42.27536542, -71.09036101)</td>\n",
       "    </tr>\n",
       "    <tr>\n",
       "      <th>5</th>\n",
       "      <td>I182070936</td>\n",
       "      <td>3820</td>\n",
       "      <td>Motor Vehicle Accident Response</td>\n",
       "      <td>M/V ACCIDENT INVOLVING PEDESTRIAN - INJURY</td>\n",
       "      <td>C11</td>\n",
       "      <td>398</td>\n",
       "      <td>NaN</td>\n",
       "      <td>2018-09-03 21:09:00</td>\n",
       "      <td>2018</td>\n",
       "      <td>9</td>\n",
       "      <td>Monday</td>\n",
       "      <td>21</td>\n",
       "      <td>Part Three</td>\n",
       "      <td>TALBOT AVE</td>\n",
       "      <td>42.290196</td>\n",
       "      <td>-71.071590</td>\n",
       "      <td>(42.29019621, -71.07159012)</td>\n",
       "    </tr>\n",
       "    <tr>\n",
       "      <th>6</th>\n",
       "      <td>I182070933</td>\n",
       "      <td>724</td>\n",
       "      <td>Auto Theft</td>\n",
       "      <td>AUTO THEFT</td>\n",
       "      <td>B2</td>\n",
       "      <td>330</td>\n",
       "      <td>NaN</td>\n",
       "      <td>2018-09-03 21:25:00</td>\n",
       "      <td>2018</td>\n",
       "      <td>9</td>\n",
       "      <td>Monday</td>\n",
       "      <td>21</td>\n",
       "      <td>Part One</td>\n",
       "      <td>NORMANDY ST</td>\n",
       "      <td>42.306072</td>\n",
       "      <td>-71.082733</td>\n",
       "      <td>(42.30607218, -71.08273260)</td>\n",
       "    </tr>\n",
       "    <tr>\n",
       "      <th>7</th>\n",
       "      <td>I182070932</td>\n",
       "      <td>3301</td>\n",
       "      <td>Verbal Disputes</td>\n",
       "      <td>VERBAL DISPUTE</td>\n",
       "      <td>B2</td>\n",
       "      <td>584</td>\n",
       "      <td>NaN</td>\n",
       "      <td>2018-09-03 20:39:37</td>\n",
       "      <td>2018</td>\n",
       "      <td>9</td>\n",
       "      <td>Monday</td>\n",
       "      <td>20</td>\n",
       "      <td>Part Three</td>\n",
       "      <td>LAWN ST</td>\n",
       "      <td>42.327016</td>\n",
       "      <td>-71.105551</td>\n",
       "      <td>(42.32701648, -71.10555088)</td>\n",
       "    </tr>\n",
       "    <tr>\n",
       "      <th>8</th>\n",
       "      <td>I182070931</td>\n",
       "      <td>301</td>\n",
       "      <td>Robbery</td>\n",
       "      <td>ROBBERY - STREET</td>\n",
       "      <td>C6</td>\n",
       "      <td>177</td>\n",
       "      <td>NaN</td>\n",
       "      <td>2018-09-03 20:48:00</td>\n",
       "      <td>2018</td>\n",
       "      <td>9</td>\n",
       "      <td>Monday</td>\n",
       "      <td>20</td>\n",
       "      <td>Part One</td>\n",
       "      <td>MASSACHUSETTS AVE</td>\n",
       "      <td>42.331521</td>\n",
       "      <td>-71.070853</td>\n",
       "      <td>(42.33152148, -71.07085307)</td>\n",
       "    </tr>\n",
       "    <tr>\n",
       "      <th>9</th>\n",
       "      <td>I182070929</td>\n",
       "      <td>3301</td>\n",
       "      <td>Verbal Disputes</td>\n",
       "      <td>VERBAL DISPUTE</td>\n",
       "      <td>C11</td>\n",
       "      <td>364</td>\n",
       "      <td>NaN</td>\n",
       "      <td>2018-09-03 20:38:00</td>\n",
       "      <td>2018</td>\n",
       "      <td>9</td>\n",
       "      <td>Monday</td>\n",
       "      <td>20</td>\n",
       "      <td>Part Three</td>\n",
       "      <td>LESLIE ST</td>\n",
       "      <td>42.295147</td>\n",
       "      <td>-71.058608</td>\n",
       "      <td>(42.29514664, -71.05860832)</td>\n",
       "    </tr>\n",
       "  </tbody>\n",
       "</table>\n",
       "</div>"
      ],
      "text/plain": [
       "  INCIDENT_NUMBER  OFFENSE_CODE               OFFENSE_CODE_GROUP  \\\n",
       "0      I182070945           619                          Larceny   \n",
       "1      I182070943          1402                        Vandalism   \n",
       "2      I182070941          3410                            Towed   \n",
       "3      I182070940          3114             Investigate Property   \n",
       "4      I182070938          3114             Investigate Property   \n",
       "5      I182070936          3820  Motor Vehicle Accident Response   \n",
       "6      I182070933           724                       Auto Theft   \n",
       "7      I182070932          3301                  Verbal Disputes   \n",
       "8      I182070931           301                          Robbery   \n",
       "9      I182070929          3301                  Verbal Disputes   \n",
       "\n",
       "                          OFFENSE_DESCRIPTION DISTRICT REPORTING_AREA  \\\n",
       "0                          LARCENY ALL OTHERS      D14            808   \n",
       "1                                   VANDALISM      C11            347   \n",
       "2                         TOWED MOTOR VEHICLE       D4            151   \n",
       "3                        INVESTIGATE PROPERTY       D4            272   \n",
       "4                        INVESTIGATE PROPERTY       B3            421   \n",
       "5  M/V ACCIDENT INVOLVING PEDESTRIAN - INJURY      C11            398   \n",
       "6                                  AUTO THEFT       B2            330   \n",
       "7                              VERBAL DISPUTE       B2            584   \n",
       "8                            ROBBERY - STREET       C6            177   \n",
       "9                              VERBAL DISPUTE      C11            364   \n",
       "\n",
       "  SHOOTING     OCCURRED_ON_DATE  YEAR  MONTH DAY_OF_WEEK  HOUR    UCR_PART  \\\n",
       "0      NaN  2018-09-02 13:00:00  2018      9      Sunday    13    Part One   \n",
       "1      NaN  2018-08-21 00:00:00  2018      8     Tuesday     0    Part Two   \n",
       "2      NaN  2018-09-03 19:27:00  2018      9      Monday    19  Part Three   \n",
       "3      NaN  2018-09-03 21:16:00  2018      9      Monday    21  Part Three   \n",
       "4      NaN  2018-09-03 21:05:00  2018      9      Monday    21  Part Three   \n",
       "5      NaN  2018-09-03 21:09:00  2018      9      Monday    21  Part Three   \n",
       "6      NaN  2018-09-03 21:25:00  2018      9      Monday    21    Part One   \n",
       "7      NaN  2018-09-03 20:39:37  2018      9      Monday    20  Part Three   \n",
       "8      NaN  2018-09-03 20:48:00  2018      9      Monday    20    Part One   \n",
       "9      NaN  2018-09-03 20:38:00  2018      9      Monday    20  Part Three   \n",
       "\n",
       "              STREET        Lat       Long                     Location  \n",
       "0         LINCOLN ST  42.357791 -71.139371  (42.35779134, -71.13937053)  \n",
       "1           HECLA ST  42.306821 -71.060300  (42.30682138, -71.06030035)  \n",
       "2        CAZENOVE ST  42.346589 -71.072429  (42.34658879, -71.07242943)  \n",
       "3         NEWCOMB ST  42.334182 -71.078664  (42.33418175, -71.07866441)  \n",
       "4           DELHI ST  42.275365 -71.090361  (42.27536542, -71.09036101)  \n",
       "5         TALBOT AVE  42.290196 -71.071590  (42.29019621, -71.07159012)  \n",
       "6        NORMANDY ST  42.306072 -71.082733  (42.30607218, -71.08273260)  \n",
       "7            LAWN ST  42.327016 -71.105551  (42.32701648, -71.10555088)  \n",
       "8  MASSACHUSETTS AVE  42.331521 -71.070853  (42.33152148, -71.07085307)  \n",
       "9          LESLIE ST  42.295147 -71.058608  (42.29514664, -71.05860832)  "
      ]
     },
     "execution_count": 51,
     "metadata": {},
     "output_type": "execute_result"
    }
   ],
   "source": [
    "frame.head(10)"
   ]
  },
  {
   "cell_type": "code",
   "execution_count": 14,
   "id": "e576b993",
   "metadata": {},
   "outputs": [],
   "source": [
    "frame.drop(['SHOOTING','Location','OCCURRED_ON_DATE'], axis=1, inplace=True)"
   ]
  },
  {
   "cell_type": "code",
   "execution_count": 24,
   "id": "83cffa5d",
   "metadata": {},
   "outputs": [
    {
     "data": {
      "text/plain": [
       "2017    100886\n",
       "2016     99114\n",
       "2018     65685\n",
       "2015     53388\n",
       "Name: YEAR, dtype: int64"
      ]
     },
     "execution_count": 24,
     "metadata": {},
     "output_type": "execute_result"
    }
   ],
   "source": [
    "frame[\"YEAR\"].value_counts()"
   ]
  },
  {
   "cell_type": "code",
   "execution_count": 21,
   "id": "b5724448",
   "metadata": {},
   "outputs": [
    {
     "name": "stderr",
     "output_type": "stream",
     "text": [
      "C:\\Users\\talk2_000\\anaconda3\\lib\\site-packages\\seaborn\\_decorators.py:36: FutureWarning: Pass the following variable as a keyword arg: x. From version 0.12, the only valid positional argument will be `data`, and passing other arguments without an explicit keyword will result in an error or misinterpretation.\n",
      "  warnings.warn(\n"
     ]
    },
    {
     "data": {
      "image/png": "[encoded data removed]",
      "text/plain": [
       "<Figure size 1296x432 with 1 Axes>"
      ]
     },
     "metadata": {
      "needs_background": "light"
     },
     "output_type": "display_data"
    }
   ],
   "source": [
    "plt.figure(figsize=(18,6))\n",
    "sns.countplot(frame[\"YEAR\"], color=\"seagreen\")\n",
    "plt.show()"
   ]
  },
  {
   "cell_type": "code",
   "execution_count": 31,
   "id": "c6beb7d8",
   "metadata": {},
   "outputs": [
    {
     "name": "stdout",
     "output_type": "stream",
     "text": [
      "Change in Crime rate in 2016 from 2015 is:  46.13\n",
      "Change in Crime rate in 2017 from 2016 is:  1.76\n",
      "Change in Crime rate in 2018 from 2017 is:  -53.59\n"
     ]
    }
   ],
   "source": [
    "print(\"Change in Crime rate in 2016 from 2015 is: \", round((frame[\"YEAR\"].value_counts().loc[2016] - frame[\"YEAR\"].value_counts().loc[2015])/frame[\"YEAR\"].value_counts().loc[2016] * 100, 2))\n",
    "print(\"Change in Crime rate in 2017 from 2016 is: \", round((frame[\"YEAR\"].value_counts().loc[2017] - frame[\"YEAR\"].value_counts().loc[2016])/frame[\"YEAR\"].value_counts().loc[2017] * 100, 2))\n",
    "print(\"Change in Crime rate in 2018 from 2017 is: \", round((frame[\"YEAR\"].value_counts().loc[2018] - frame[\"YEAR\"].value_counts().loc[2017])/frame[\"YEAR\"].value_counts().loc[2018] * 100, 2))"
   ]
  },
  {
   "cell_type": "markdown",
   "id": "eb026719",
   "metadata": {},
   "source": [
    "Significant improvement in crime rate in 2018 from past 1 year , as it drops down to 53.59 % and a considerable improvement in crime rate from 2016."
   ]
  },
  {
   "cell_type": "code",
   "execution_count": 35,
   "id": "4e09b255",
   "metadata": {},
   "outputs": [
    {
     "name": "stderr",
     "output_type": "stream",
     "text": [
      "C:\\Users\\talk2_000\\anaconda3\\lib\\site-packages\\seaborn\\_decorators.py:36: FutureWarning: Pass the following variable as a keyword arg: x. From version 0.12, the only valid positional argument will be `data`, and passing other arguments without an explicit keyword will result in an error or misinterpretation.\n",
      "  warnings.warn(\n"
     ]
    },
    {
     "data": {
      "text/plain": [
       "(array([ 0,  1,  2,  3,  4,  5,  6,  7,  8,  9, 10, 11, 12, 13, 14, 15, 16,\n",
       "        17, 18, 19, 20, 21, 22, 23, 24, 25, 26, 27, 28, 29, 30, 31, 32, 33,\n",
       "        34, 35, 36, 37, 38, 39, 40, 41, 42, 43, 44, 45, 46, 47, 48, 49, 50,\n",
       "        51, 52, 53, 54, 55, 56, 57, 58, 59, 60, 61, 62, 63, 64, 65, 66]),\n",
       " [Text(0, 0, 'Larceny'),\n",
       "  Text(1, 0, 'Vandalism'),\n",
       "  Text(2, 0, 'Towed'),\n",
       "  Text(3, 0, 'Investigate Property'),\n",
       "  Text(4, 0, 'Motor Vehicle Accident Response'),\n",
       "  Text(5, 0, 'Auto Theft'),\n",
       "  Text(6, 0, 'Verbal Disputes'),\n",
       "  Text(7, 0, 'Robbery'),\n",
       "  Text(8, 0, 'Fire Related Reports'),\n",
       "  Text(9, 0, 'Other'),\n",
       "  Text(10, 0, 'Property Lost'),\n",
       "  Text(11, 0, 'Medical Assistance'),\n",
       "  Text(12, 0, 'Assembly or Gathering Violations'),\n",
       "  Text(13, 0, 'Larceny From Motor Vehicle'),\n",
       "  Text(14, 0, 'Residential Burglary'),\n",
       "  Text(15, 0, 'Simple Assault'),\n",
       "  Text(16, 0, 'Restraining Order Violations'),\n",
       "  Text(17, 0, 'Violations'),\n",
       "  Text(18, 0, 'Harassment'),\n",
       "  Text(19, 0, 'Ballistics'),\n",
       "  Text(20, 0, 'Property Found'),\n",
       "  Text(21, 0, 'Police Service Incidents'),\n",
       "  Text(22, 0, 'Drug Violation'),\n",
       "  Text(23, 0, 'Warrant Arrests'),\n",
       "  Text(24, 0, 'Disorderly Conduct'),\n",
       "  Text(25, 0, 'Property Related Damage'),\n",
       "  Text(26, 0, 'Missing Person Reported'),\n",
       "  Text(27, 0, 'Investigate Person'),\n",
       "  Text(28, 0, 'Fraud'),\n",
       "  Text(29, 0, 'Aggravated Assault'),\n",
       "  Text(30, 0, 'License Plate Related Incidents'),\n",
       "  Text(31, 0, 'Firearm Violations'),\n",
       "  Text(32, 0, 'Other Burglary'),\n",
       "  Text(33, 0, 'Arson'),\n",
       "  Text(34, 0, 'Bomb Hoax'),\n",
       "  Text(35, 0, 'Harbor Related Incidents'),\n",
       "  Text(36, 0, 'Counterfeiting'),\n",
       "  Text(37, 0, 'Liquor Violation'),\n",
       "  Text(38, 0, 'Firearm Discovery'),\n",
       "  Text(39, 0, 'Landlord/Tenant Disputes'),\n",
       "  Text(40, 0, 'Missing Person Located'),\n",
       "  Text(41, 0, 'Auto Theft Recovery'),\n",
       "  Text(42, 0, 'Service'),\n",
       "  Text(43, 0, 'Operating Under the Influence'),\n",
       "  Text(44, 0, 'Confidence Games'),\n",
       "  Text(45, 0, 'Search Warrants'),\n",
       "  Text(46, 0, 'License Violation'),\n",
       "  Text(47, 0, 'Commercial Burglary'),\n",
       "  Text(48, 0, 'HOME INVASION'),\n",
       "  Text(49, 0, 'Recovered Stolen Property'),\n",
       "  Text(50, 0, 'Offenses Against Child / Family'),\n",
       "  Text(51, 0, 'Prostitution'),\n",
       "  Text(52, 0, 'Evading Fare'),\n",
       "  Text(53, 0, 'Prisoner Related Incidents'),\n",
       "  Text(54, 0, 'Homicide'),\n",
       "  Text(55, 0, 'Embezzlement'),\n",
       "  Text(56, 0, 'Explosives'),\n",
       "  Text(57, 0, 'Criminal Harassment'),\n",
       "  Text(58, 0, 'Phone Call Complaints'),\n",
       "  Text(59, 0, 'Aircraft'),\n",
       "  Text(60, 0, 'Biological Threat'),\n",
       "  Text(61, 0, 'Manslaughter'),\n",
       "  Text(62, 0, 'Gambling'),\n",
       "  Text(63, 0, 'INVESTIGATE PERSON'),\n",
       "  Text(64, 0, 'HUMAN TRAFFICKING'),\n",
       "  Text(65, 0, 'HUMAN TRAFFICKING - INVOLUNTARY SERVITUDE'),\n",
       "  Text(66, 0, 'Burglary - No Property Taken')])"
      ]
     },
     "execution_count": 35,
     "metadata": {},
     "output_type": "execute_result"
    },
    {
     "data": {
      "image/png": "[encoded data removed]",
      "text/plain": [
       "<Figure size 1152x576 with 1 Axes>"
      ]
     },
     "metadata": {
      "needs_background": "light"
     },
     "output_type": "display_data"
    }
   ],
   "source": [
    "fig = plt.figure(figsize=(16,8))\n",
    "sns.countplot(frame[\"OFFENSE_CODE_GROUP\"], color=\"seagreen\")\n",
    "plt.xticks(rotation=90)"
   ]
  },
  {
   "cell_type": "code",
   "execution_count": 37,
   "id": "337f665d",
   "metadata": {},
   "outputs": [
    {
     "data": {
      "text/plain": [
       "Text(-9.074999999999989, 0.5, 'Count')"
      ]
     },
     "execution_count": 37,
     "metadata": {},
     "output_type": "execute_result"
    },
    {
     "data": {
      "image/png": "[encoded data removed]",
      "text/plain": [
       "<Figure size 1138.32x379.44 with 1 Axes>"
      ]
     },
     "metadata": {
      "needs_background": "light"
     },
     "output_type": "display_data"
    }
   ],
   "source": [
    "sns.catplot(x='HOUR', kind='count',  height=5.27,   aspect=3,  color='seagreen', data=frame)\n",
    "plt.xticks(size=15)\n",
    "plt.yticks(size=10)\n",
    "plt.xlabel('Hour', fontsize=10)\n",
    "plt.ylabel('Count', fontsize=10)"
   ]
  },
  {
   "cell_type": "code",
   "execution_count": 39,
   "id": "1267d755",
   "metadata": {},
   "outputs": [
    {
     "data": {
      "text/plain": [
       "Text(-9.074999999999989, 0.5, 'Count')"
      ]
     },
     "execution_count": 39,
     "metadata": {},
     "output_type": "execute_result"
    },
    {
     "data": {
      "image/png": "[encoded data removed]",
      "text/plain": [
       "<Figure size 1138.32x379.44 with 1 Axes>"
      ]
     },
     "metadata": {
      "needs_background": "light"
     },
     "output_type": "display_data"
    }
   ],
   "source": [
    "sns.catplot(x='DAY_OF_WEEK', kind='count', height=5.27, aspect=3, color='seagreen', data=frame)\n",
    "plt.xticks(size=15)\n",
    "plt.yticks(size=10)\n",
    "plt.xlabel('Day', fontsize=10)\n",
    "plt.ylabel('Count', fontsize=10)"
   ]
  },
  {
   "cell_type": "code",
   "execution_count": 40,
   "id": "f41a600a",
   "metadata": {},
   "outputs": [
    {
     "data": {
      "text/plain": [
       "Text(-9.074999999999989, 0.5, 'Count')"
      ]
     },
     "execution_count": 40,
     "metadata": {},
     "output_type": "execute_result"
    },
    {
     "data": {
      "image/png": "[encoded data removed]",
      "text/plain": [
       "<Figure size 1138.32x379.44 with 1 Axes>"
      ]
     },
     "metadata": {
      "needs_background": "light"
     },
     "output_type": "display_data"
    }
   ],
   "source": [
    "sns.catplot(x='MONTH', kind='count', height=5.27, aspect=3, color='seagreen', data=frame)\n",
    "plt.xticks(size=15)\n",
    "plt.yticks(size=10)\n",
    "plt.xlabel('Month', fontsize=10)\n",
    "plt.ylabel('Count', fontsize=10)"
   ]
  },
  {
   "cell_type": "code",
   "execution_count": 42,
   "id": "69ca469d",
   "metadata": {},
   "outputs": [
    {
     "data": {
      "text/plain": [
       "Text(-9.074999999999989, 0.5, 'Count')"
      ]
     },
     "execution_count": 42,
     "metadata": {},
     "output_type": "execute_result"
    },
    {
     "data": {
      "image/png": "[encoded data removed]",
      "text/plain": [
       "<Figure size 1138.32x379.44 with 1 Axes>"
      ]
     },
     "metadata": {
      "needs_background": "light"
     },
     "output_type": "display_data"
    }
   ],
   "source": [
    "sns.catplot(x='DISTRICT', kind='count', height=5.27, aspect=3, color='seagreen',data=frame)\n",
    "plt.xticks(size=15)\n",
    "plt.yticks(size=10)\n",
    "plt.xlabel('Hour', fontsize=10)\n",
    "plt.ylabel('Count', fontsize=10)"
   ]
  },
  {
   "cell_type": "code",
   "execution_count": 43,
   "id": "721f1953",
   "metadata": {},
   "outputs": [
    {
     "data": {
      "text/html": [
       "<div>\n",
       "<style scoped>\n",
       "    .dataframe tbody tr th:only-of-type {\n",
       "        vertical-align: middle;\n",
       "    }\n",
       "\n",
       "    .dataframe tbody tr th {\n",
       "        vertical-align: top;\n",
       "    }\n",
       "\n",
       "    .dataframe thead th {\n",
       "        text-align: right;\n",
       "    }\n",
       "</style>\n",
       "<table border=\"1\" class=\"dataframe\">\n",
       "  <thead>\n",
       "    <tr style=\"text-align: right;\">\n",
       "      <th></th>\n",
       "      <th>OFFENSE_CODE</th>\n",
       "      <th>CODE</th>\n",
       "      <th>NAME</th>\n",
       "    </tr>\n",
       "  </thead>\n",
       "  <tbody>\n",
       "    <tr>\n",
       "      <th>66</th>\n",
       "      <td>18783</td>\n",
       "      <td>3006</td>\n",
       "      <td>SICK/INJURED/MEDICAL - PERSON</td>\n",
       "    </tr>\n",
       "    <tr>\n",
       "      <th>495</th>\n",
       "      <td>18783</td>\n",
       "      <td>3006</td>\n",
       "      <td>SICK/INJURED/MEDICAL - PERSON</td>\n",
       "    </tr>\n",
       "    <tr>\n",
       "      <th>151</th>\n",
       "      <td>18754</td>\n",
       "      <td>3115</td>\n",
       "      <td>INVESTIGATE PERSON</td>\n",
       "    </tr>\n",
       "    <tr>\n",
       "      <th>427</th>\n",
       "      <td>18754</td>\n",
       "      <td>3115</td>\n",
       "      <td>INVESTIGATE PERSON</td>\n",
       "    </tr>\n",
       "    <tr>\n",
       "      <th>180</th>\n",
       "      <td>16323</td>\n",
       "      <td>3831</td>\n",
       "      <td>M/V - LEAVING SCENE - PROPERTY DAMAGE</td>\n",
       "    </tr>\n",
       "    <tr>\n",
       "      <th>79</th>\n",
       "      <td>15154</td>\n",
       "      <td>1402</td>\n",
       "      <td>VANDALISM</td>\n",
       "    </tr>\n",
       "    <tr>\n",
       "      <th>520</th>\n",
       "      <td>15154</td>\n",
       "      <td>1402</td>\n",
       "      <td>VANDALISM</td>\n",
       "    </tr>\n",
       "    <tr>\n",
       "      <th>91</th>\n",
       "      <td>14799</td>\n",
       "      <td>802</td>\n",
       "      <td>ASSAULT SIMPLE - BATTERY</td>\n",
       "    </tr>\n",
       "    <tr>\n",
       "      <th>336</th>\n",
       "      <td>14799</td>\n",
       "      <td>802</td>\n",
       "      <td>ASSAULT &amp; BATTERY</td>\n",
       "    </tr>\n",
       "    <tr>\n",
       "      <th>81</th>\n",
       "      <td>13099</td>\n",
       "      <td>3301</td>\n",
       "      <td>VERBAL DISPUTE</td>\n",
       "    </tr>\n",
       "  </tbody>\n",
       "</table>\n",
       "</div>"
      ],
      "text/plain": [
       "     OFFENSE_CODE  CODE                                   NAME\n",
       "66          18783  3006          SICK/INJURED/MEDICAL - PERSON\n",
       "495         18783  3006          SICK/INJURED/MEDICAL - PERSON\n",
       "151         18754  3115                     INVESTIGATE PERSON\n",
       "427         18754  3115                     INVESTIGATE PERSON\n",
       "180         16323  3831  M/V - LEAVING SCENE - PROPERTY DAMAGE\n",
       "79          15154  1402                              VANDALISM\n",
       "520         15154  1402                              VANDALISM\n",
       "91          14799   802               ASSAULT SIMPLE - BATTERY\n",
       "336         14799   802                      ASSAULT & BATTERY\n",
       "81          13099  3301                         VERBAL DISPUTE"
      ]
     },
     "execution_count": 43,
     "metadata": {},
     "output_type": "execute_result"
    }
   ],
   "source": [
    "top_crime = pd.DataFrame(frame['OFFENSE_CODE'].value_counts()).merge(frame01, left_index=True, right_on='CODE', how='inner')[:10]\n",
    "top_crime"
   ]
  },
  {
   "cell_type": "code",
   "execution_count": 46,
   "id": "c1daf5e0",
   "metadata": {},
   "outputs": [],
   "source": [
    "crime_report = frame[['YEAR','OFFENSE_CODE','INCIDENT_NUMBER']].groupby(['YEAR','OFFENSE_CODE'], as_index=False).count().sort_values(by=['YEAR','INCIDENT_NUMBER'], ascending=False)"
   ]
  },
  {
   "cell_type": "code",
   "execution_count": 48,
   "id": "98fece6f",
   "metadata": {},
   "outputs": [
    {
     "data": {
      "text/html": [
       "<div>\n",
       "<style scoped>\n",
       "    .dataframe tbody tr th:only-of-type {\n",
       "        vertical-align: middle;\n",
       "    }\n",
       "\n",
       "    .dataframe tbody tr th {\n",
       "        vertical-align: top;\n",
       "    }\n",
       "\n",
       "    .dataframe thead th {\n",
       "        text-align: right;\n",
       "    }\n",
       "</style>\n",
       "<table border=\"1\" class=\"dataframe\">\n",
       "  <thead>\n",
       "    <tr style=\"text-align: right;\">\n",
       "      <th></th>\n",
       "      <th>YEAR</th>\n",
       "      <th>OFFENSE_CODE</th>\n",
       "      <th>INCIDENT_NUMBER</th>\n",
       "      <th>CODE</th>\n",
       "      <th>NAME</th>\n",
       "    </tr>\n",
       "  </thead>\n",
       "  <tbody>\n",
       "    <tr>\n",
       "      <th>0</th>\n",
       "      <td>2018</td>\n",
       "      <td>3006</td>\n",
       "      <td>4627</td>\n",
       "      <td>3006</td>\n",
       "      <td>SICK/INJURED/MEDICAL - PERSON</td>\n",
       "    </tr>\n",
       "    <tr>\n",
       "      <th>1</th>\n",
       "      <td>2018</td>\n",
       "      <td>3006</td>\n",
       "      <td>4627</td>\n",
       "      <td>3006</td>\n",
       "      <td>SICK/INJURED/MEDICAL - PERSON</td>\n",
       "    </tr>\n",
       "    <tr>\n",
       "      <th>2</th>\n",
       "      <td>2017</td>\n",
       "      <td>3006</td>\n",
       "      <td>6277</td>\n",
       "      <td>3006</td>\n",
       "      <td>SICK/INJURED/MEDICAL - PERSON</td>\n",
       "    </tr>\n",
       "    <tr>\n",
       "      <th>3</th>\n",
       "      <td>2017</td>\n",
       "      <td>3006</td>\n",
       "      <td>6277</td>\n",
       "      <td>3006</td>\n",
       "      <td>SICK/INJURED/MEDICAL - PERSON</td>\n",
       "    </tr>\n",
       "    <tr>\n",
       "      <th>4</th>\n",
       "      <td>2016</td>\n",
       "      <td>3006</td>\n",
       "      <td>5495</td>\n",
       "      <td>3006</td>\n",
       "      <td>SICK/INJURED/MEDICAL - PERSON</td>\n",
       "    </tr>\n",
       "    <tr>\n",
       "      <th>...</th>\n",
       "      <td>...</td>\n",
       "      <td>...</td>\n",
       "      <td>...</td>\n",
       "      <td>...</td>\n",
       "      <td>...</td>\n",
       "    </tr>\n",
       "    <tr>\n",
       "      <th>1316</th>\n",
       "      <td>2015</td>\n",
       "      <td>624</td>\n",
       "      <td>1</td>\n",
       "      <td>624</td>\n",
       "      <td>LARCENY NON-ACCESSORY FROM VEH. $50 TO $199</td>\n",
       "    </tr>\n",
       "    <tr>\n",
       "      <th>1317</th>\n",
       "      <td>2015</td>\n",
       "      <td>637</td>\n",
       "      <td>1</td>\n",
       "      <td>637</td>\n",
       "      <td>LARCENY IN A BUILDING UNDER $50</td>\n",
       "    </tr>\n",
       "    <tr>\n",
       "      <th>1318</th>\n",
       "      <td>2015</td>\n",
       "      <td>639</td>\n",
       "      <td>1</td>\n",
       "      <td>639</td>\n",
       "      <td>LARCENY OTHER UNDER $50</td>\n",
       "    </tr>\n",
       "    <tr>\n",
       "      <th>1319</th>\n",
       "      <td>2015</td>\n",
       "      <td>1105</td>\n",
       "      <td>1</td>\n",
       "      <td>1105</td>\n",
       "      <td>FRAUDS - ALL OTHER</td>\n",
       "    </tr>\n",
       "    <tr>\n",
       "      <th>1320</th>\n",
       "      <td>2015</td>\n",
       "      <td>1863</td>\n",
       "      <td>1</td>\n",
       "      <td>1863</td>\n",
       "      <td>DRUGS - POSS CLASS D - MARIJUANA, ETC.</td>\n",
       "    </tr>\n",
       "  </tbody>\n",
       "</table>\n",
       "<p>1321 rows × 5 columns</p>\n",
       "</div>"
      ],
      "text/plain": [
       "      YEAR  OFFENSE_CODE  INCIDENT_NUMBER  CODE  \\\n",
       "0     2018          3006             4627  3006   \n",
       "1     2018          3006             4627  3006   \n",
       "2     2017          3006             6277  3006   \n",
       "3     2017          3006             6277  3006   \n",
       "4     2016          3006             5495  3006   \n",
       "...    ...           ...              ...   ...   \n",
       "1316  2015           624                1   624   \n",
       "1317  2015           637                1   637   \n",
       "1318  2015           639                1   639   \n",
       "1319  2015          1105                1  1105   \n",
       "1320  2015          1863                1  1863   \n",
       "\n",
       "                                             NAME  \n",
       "0                   SICK/INJURED/MEDICAL - PERSON  \n",
       "1                   SICK/INJURED/MEDICAL - PERSON  \n",
       "2                   SICK/INJURED/MEDICAL - PERSON  \n",
       "3                   SICK/INJURED/MEDICAL - PERSON  \n",
       "4                   SICK/INJURED/MEDICAL - PERSON  \n",
       "...                                           ...  \n",
       "1316  LARCENY NON-ACCESSORY FROM VEH. $50 TO $199  \n",
       "1317              LARCENY IN A BUILDING UNDER $50  \n",
       "1318                      LARCENY OTHER UNDER $50  \n",
       "1319                           FRAUDS - ALL OTHER  \n",
       "1320       DRUGS - POSS CLASS D - MARIJUANA, ETC.  \n",
       "\n",
       "[1321 rows x 5 columns]"
      ]
     },
     "execution_count": 48,
     "metadata": {},
     "output_type": "execute_result"
    }
   ],
   "source": [
    "crime_report.merge(frame01, left_on='OFFENSE_CODE',right_on='CODE',how='inner')"
   ]
  },
  {
   "cell_type": "code",
   "execution_count": 52,
   "id": "309a2184",
   "metadata": {},
   "outputs": [
    {
     "data": {
      "text/html": [
       "<div>\n",
       "<style scoped>\n",
       "    .dataframe tbody tr th:only-of-type {\n",
       "        vertical-align: middle;\n",
       "    }\n",
       "\n",
       "    .dataframe tbody tr th {\n",
       "        vertical-align: top;\n",
       "    }\n",
       "\n",
       "    .dataframe thead th {\n",
       "        text-align: right;\n",
       "    }\n",
       "</style>\n",
       "<table border=\"1\" class=\"dataframe\">\n",
       "  <thead>\n",
       "    <tr style=\"text-align: right;\">\n",
       "      <th></th>\n",
       "      <th>YEAR</th>\n",
       "      <th>OFFENSE_CODE</th>\n",
       "      <th>INCIDENT_NUMBER</th>\n",
       "    </tr>\n",
       "  </thead>\n",
       "  <tbody>\n",
       "    <tr>\n",
       "      <th>720</th>\n",
       "      <td>2018</td>\n",
       "      <td>3006</td>\n",
       "      <td>4627</td>\n",
       "    </tr>\n",
       "    <tr>\n",
       "      <th>734</th>\n",
       "      <td>2018</td>\n",
       "      <td>3115</td>\n",
       "      <td>3818</td>\n",
       "    </tr>\n",
       "    <tr>\n",
       "      <th>772</th>\n",
       "      <td>2018</td>\n",
       "      <td>3831</td>\n",
       "      <td>3383</td>\n",
       "    </tr>\n",
       "    <tr>\n",
       "      <th>627</th>\n",
       "      <td>2018</td>\n",
       "      <td>802</td>\n",
       "      <td>3296</td>\n",
       "    </tr>\n",
       "    <tr>\n",
       "      <th>749</th>\n",
       "      <td>2018</td>\n",
       "      <td>3301</td>\n",
       "      <td>3055</td>\n",
       "    </tr>\n",
       "    <tr>\n",
       "      <th>...</th>\n",
       "      <td>...</td>\n",
       "      <td>...</td>\n",
       "      <td>...</td>\n",
       "    </tr>\n",
       "    <tr>\n",
       "      <th>642</th>\n",
       "      <td>2018</td>\n",
       "      <td>1502</td>\n",
       "      <td>1</td>\n",
       "    </tr>\n",
       "    <tr>\n",
       "      <th>647</th>\n",
       "      <td>2018</td>\n",
       "      <td>1605</td>\n",
       "      <td>1</td>\n",
       "    </tr>\n",
       "    <tr>\n",
       "      <th>667</th>\n",
       "      <td>2018</td>\n",
       "      <td>1864</td>\n",
       "      <td>1</td>\n",
       "    </tr>\n",
       "    <tr>\n",
       "      <th>685</th>\n",
       "      <td>2018</td>\n",
       "      <td>2605</td>\n",
       "      <td>1</td>\n",
       "    </tr>\n",
       "    <tr>\n",
       "      <th>745</th>\n",
       "      <td>2018</td>\n",
       "      <td>3203</td>\n",
       "      <td>1</td>\n",
       "    </tr>\n",
       "  </tbody>\n",
       "</table>\n",
       "<p>180 rows × 3 columns</p>\n",
       "</div>"
      ],
      "text/plain": [
       "     YEAR  OFFENSE_CODE  INCIDENT_NUMBER\n",
       "720  2018          3006             4627\n",
       "734  2018          3115             3818\n",
       "772  2018          3831             3383\n",
       "627  2018           802             3296\n",
       "749  2018          3301             3055\n",
       "..    ...           ...              ...\n",
       "642  2018          1502                1\n",
       "647  2018          1605                1\n",
       "667  2018          1864                1\n",
       "685  2018          2605                1\n",
       "745  2018          3203                1\n",
       "\n",
       "[180 rows x 3 columns]"
      ]
     },
     "execution_count": 52,
     "metadata": {},
     "output_type": "execute_result"
    }
   ],
   "source": [
    "crime_report[crime_report[\"YEAR\"] == 2018]"
   ]
  },
  {
   "cell_type": "code",
   "execution_count": 45,
   "id": "2ce1f76d",
   "metadata": {},
   "outputs": [
    {
     "data": {
      "text/plain": [
       "Text(-15.449999999999989, 0.5, 'Count')"
      ]
     },
     "execution_count": 45,
     "metadata": {},
     "output_type": "execute_result"
    },
    {
     "data": {
      "image/png": "[encoded data removed]",
      "text/plain": [
       "<Figure size 1138.32x379.44 with 1 Axes>"
      ]
     },
     "metadata": {
      "needs_background": "light"
     },
     "output_type": "display_data"
    }
   ],
   "source": [
    "sns.catplot(x='UCR_PART', kind='count', height=5.27, aspect=3, data=frame, color=\"seagreen\")\n",
    "plt.xticks(size=15)\n",
    "plt.yticks(size=10)\n",
    "plt.xlabel('ucr part', fontsize=10)\n",
    "plt.ylabel('Count', fontsize=10)"
   ]
  },
  {
   "cell_type": "code",
   "execution_count": null,
   "id": "c643d5a2",
   "metadata": {},
   "outputs": [],
   "source": []
  }
 ],
 "metadata": {
  "kernelspec": {
   "display_name": "Python 3",
   "language": "python",
   "name": "python3"
  },
  "language_info": {
   "codemirror_mode": {
    "name": "ipython",
    "version": 3
   },
   "file_extension": ".py",
   "mimetype": "text/x-python",
   "name": "python",
   "nbconvert_exporter": "python",
   "pygments_lexer": "ipython3",
   "version": "3.8.8"
  }
 },
 "nbformat": 4,
 "nbformat_minor": 5
}
